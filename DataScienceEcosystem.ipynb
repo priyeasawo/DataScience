{
 "cells": [
  {
   "cell_type": "markdown",
   "id": "4e56b74e-6583-48b5-9c24-43e259996d44",
   "metadata": {},
   "source": [
    "# Data Science Tools and Ecosystem"
   ]
  },
  {
   "cell_type": "markdown",
   "id": "b3d52f62-102b-4fa5-ba34-75589a0ea71c",
   "metadata": {},
   "source": [
    "In this notebook, Data Science Tools and Ecosystem are summarized."
   ]
  },
  {
   "cell_type": "markdown",
   "id": "5fdfd6e7-b59d-41d3-9e61-faec808438dc",
   "metadata": {},
   "source": [
    "**Objectives:**\n",
    "- List popular languages for Data Science\n",
    "- List commonly used libraries in data science\n",
    "- List development environment open source tools used in data science\n",
    "- Multiply and add numbers"
   ]
  },
  {
   "cell_type": "markdown",
   "id": "1f3d98d5-25e3-4644-a070-308ef9951d2c",
   "metadata": {},
   "source": [
    "Some of the popular languages that Data Scientists use are:\n",
    "1. Python\n",
    "2. Sql\n",
    "3. R"
   ]
  },
  {
   "cell_type": "markdown",
   "id": "7b969268-6ca7-410d-a922-16f7e6b8a532",
   "metadata": {},
   "source": [
    "Some of the commonly used libraries used by Data Scientists include:\n",
    "1. Pandas\n",
    "2. NumPy\n",
    "3. Seaborn"
   ]
  },
  {
   "cell_type": "markdown",
   "id": "cb281736-9143-4c7b-a142-356b39f39a09",
   "metadata": {},
   "source": [
    "Data Science Tools\n",
    "|-------------------|\n",
    "MySQL\n",
    "Pixie Dust\n",
    "Apache AirFlow"
   ]
  },
  {
   "cell_type": "markdown",
   "id": "b2d08eb2-c135-4f9f-8d51-374b78ea84c3",
   "metadata": {},
   "source": [
    "### Below are a few examples of evaluating arithmetic expressions in Python"
   ]
  },
  {
   "cell_type": "code",
   "execution_count": 2,
   "id": "96e28d9a-ba77-4340-bc8b-a0d329a56262",
   "metadata": {},
   "outputs": [
    {
     "data": {
      "text/plain": [
       "17"
      ]
     },
     "execution_count": 2,
     "metadata": {},
     "output_type": "execute_result"
    }
   ],
   "source": [
    "#This a simple arithmetic expression to multiply then add integers\n",
    "(3*4) + 5"
   ]
  },
  {
   "cell_type": "code",
   "execution_count": 3,
   "id": "d030de2e-3025-4f13-8fb6-71fcb201a1b9",
   "metadata": {},
   "outputs": [
    {
     "data": {
      "text/plain": [
       "3.3333333333333335"
      ]
     },
     "execution_count": 3,
     "metadata": {},
     "output_type": "execute_result"
    }
   ],
   "source": [
    "#This will convert 200 minutes to hours by diving by 60\n",
    "200/60"
   ]
  },
  {
   "cell_type": "markdown",
   "id": "57983288-8a83-4ca9-aed5-bb66f7a52b0b",
   "metadata": {},
   "source": [
    "## Author\n",
    "Tampriye Asawo"
   ]
  },
  {
   "cell_type": "code",
   "execution_count": null,
   "id": "2812483d-a510-4d7f-bd25-a1dafea53897",
   "metadata": {},
   "outputs": [],
   "source": []
  }
 ],
 "metadata": {
  "kernelspec": {
   "display_name": "Python 3 (ipykernel)",
   "language": "python",
   "name": "python3"
  },
  "language_info": {
   "codemirror_mode": {
    "name": "ipython",
    "version": 3
   },
   "file_extension": ".py",
   "mimetype": "text/x-python",
   "name": "python",
   "nbconvert_exporter": "python",
   "pygments_lexer": "ipython3",
   "version": "3.12.8"
  }
 },
 "nbformat": 4,
 "nbformat_minor": 5
}
